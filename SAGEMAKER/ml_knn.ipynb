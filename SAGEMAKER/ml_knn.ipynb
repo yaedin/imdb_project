{
 "cells": [
  {
   "cell_type": "markdown",
   "metadata": {},
   "source": [
    "# Imports"
   ]
  },
  {
   "cell_type": "code",
   "execution_count": 69,
   "metadata": {},
   "outputs": [],
   "source": [
    "import logging\n",
    "import boto3\n",
    "from botocore.exceptions import ClientError\n",
    "import pandas as pd\n",
    "\n",
    "from sagemaker.amazon.amazon_estimator import get_image_uri\n",
    "from sagemaker.session import s3_input\n",
    "from sagemaker import get_execution_role\n",
    "from sagemaker import Session\n",
    "from sagemaker.estimator import Estimator"
   ]
  },
  {
   "cell_type": "code",
   "execution_count": 70,
   "metadata": {},
   "outputs": [],
   "source": [
    "bucket_name = 'ye-1468'\n",
    "region = 'eu-central-1'"
   ]
  },
  {
   "cell_type": "code",
   "execution_count": 71,
   "metadata": {},
   "outputs": [],
   "source": [
    "session = boto3.Session(\n",
    "    region_name=region\n",
    ")"
   ]
  },
  {
   "cell_type": "code",
   "execution_count": 72,
   "metadata": {},
   "outputs": [],
   "source": [
    "# Now we can create low-level clients or resource clients from our custom session\n",
    "s3_client = boto3.client('s3')\n",
    "s3 = boto3.resource('s3')"
   ]
  },
  {
   "cell_type": "markdown",
   "metadata": {},
   "source": [
    "# Training"
   ]
  },
  {
   "cell_type": "markdown",
   "metadata": {},
   "source": [
    "## Data"
   ]
  },
  {
   "cell_type": "code",
   "execution_count": 73,
   "metadata": {},
   "outputs": [
    {
     "name": "stderr",
     "output_type": "stream",
     "text": [
      "'s3_input' class will be renamed to 'TrainingInput' in SageMaker Python SDK v2.\n",
      "'s3_input' class will be renamed to 'TrainingInput' in SageMaker Python SDK v2.\n"
     ]
    }
   ],
   "source": [
    "train_data = 's3://aida-project/niy/train.csv'\n",
    "test_data = 's3://aida-project/niy/test.csv'\n",
    "\n",
    "# create s3 paths for the objects\n",
    "s3_input_train = s3_input(train_data, content_type='text/csv')\n",
    "s3_input_test = s3_input(test_data, content_type='text/csv')\n",
    "\n",
    "data_channels = {'train': s3_input_train, 'validation': s3_input_test}"
   ]
  },
  {
   "cell_type": "code",
   "execution_count": 75,
   "metadata": {},
   "outputs": [],
   "source": [
    "# get execution role\n",
    "role = get_execution_role()\n",
    "# create session\n",
    "sess = Session()"
   ]
  },
  {
   "cell_type": "markdown",
   "metadata": {},
   "source": [
    "## K_Nearest_Neighbors"
   ]
  },
  {
   "cell_type": "code",
   "execution_count": 76,
   "metadata": {},
   "outputs": [
    {
     "name": "stderr",
     "output_type": "stream",
     "text": [
      "'get_image_uri' method will be deprecated in favor of 'ImageURIProvider' class in SageMaker Python SDK v2.\n"
     ]
    }
   ],
   "source": [
    "# Use a previously-built, AWS K_Nearest_Neighbors model for training\n",
    "container = get_image_uri(region_name=region,\n",
    "                          repo_name='knn')"
   ]
  },
  {
   "cell_type": "code",
   "execution_count": 77,
   "metadata": {},
   "outputs": [
    {
     "name": "stderr",
     "output_type": "stream",
     "text": [
      "Parameter image_name will be renamed to image_uri in SageMaker Python SDK v2.\n"
     ]
    },
    {
     "name": "stdout",
     "output_type": "stream",
     "text": [
      "2020-11-19 18:16:01 Starting - Starting the training job...\n",
      "2020-11-19 18:16:04 Starting - Launching requested ML instances......\n",
      "2020-11-19 18:17:26 Starting - Preparing the instances for training......\n",
      "2020-11-19 18:18:28 Downloading - Downloading input data...\n",
      "2020-11-19 18:18:43 Training - Downloading the training image...\n",
      "2020-11-19 18:19:22 Training - Training image download completed. Training in progress.\u001b[34mDocker entrypoint called with argument(s): train\u001b[0m\n",
      "\u001b[34mRunning default environment configuration script\u001b[0m\n",
      "\u001b[34m[11/19/2020 18:19:26 INFO 140404386948928] Reading default configuration from /opt/amazon/lib/python2.7/site-packages/algorithm/resources/default-conf.json: {u'index_metric': u'L2', u'_tuning_objective_metric': u'', u'_num_gpus': u'auto', u'_log_level': u'info', u'feature_dim': u'auto', u'faiss_index_ivf_nlists': u'auto', u'epochs': u'1', u'index_type': u'faiss.Flat', u'_faiss_index_nprobe': u'5', u'_kvstore': u'dist_async', u'_num_kv_servers': u'1', u'mini_batch_size': u'5000'}\u001b[0m\n",
      "\u001b[34m[11/19/2020 18:19:26 INFO 140404386948928] Merging with provided configuration from /opt/ml/input/config/hyperparameters.json: {u'sample_size': u'5000', u'k': u'10', u'predictor_type': u'regressor'}\u001b[0m\n",
      "\u001b[34m[11/19/2020 18:19:26 INFO 140404386948928] Final configuration: {u'index_metric': u'L2', u'predictor_type': u'regressor', u'_tuning_objective_metric': u'', u'_num_gpus': u'auto', u'_log_level': u'info', u'feature_dim': u'auto', u'faiss_index_ivf_nlists': u'auto', u'sample_size': u'5000', u'epochs': u'1', u'index_type': u'faiss.Flat', u'_faiss_index_nprobe': u'5', u'_kvstore': u'dist_async', u'_num_kv_servers': u'1', u'mini_batch_size': u'5000', u'k': u'10'}\u001b[0m\n",
      "\u001b[34m[11/19/2020 18:19:26 WARNING 140404386948928] Loggers have already been setup.\u001b[0m\n",
      "\u001b[34m[11/19/2020 18:19:26 INFO 140404386948928] Launching parameter server for role scheduler\u001b[0m\n",
      "\u001b[34m[11/19/2020 18:19:26 INFO 140404386948928] {'ECS_CONTAINER_METADATA_URI': 'http://169.254.170.2/v3/c212080e-79bd-4408-b298-1c88c147b537', 'ECS_CONTAINER_METADATA_URI_V4': 'http://169.254.170.2/v4/c212080e-79bd-4408-b298-1c88c147b537', 'PROTOCOL_BUFFERS_PYTHON_IMPLEMENTATION_VERSION': '2', 'PATH': '/opt/amazon/bin:/usr/local/nvidia/bin:/usr/local/sbin:/usr/local/bin:/usr/sbin:/usr/bin:/sbin:/bin:/opt/amazon/bin:/opt/amazon/bin', 'SAGEMAKER_HTTP_PORT': '8080', 'HOME': '/root', 'PYTHONUNBUFFERED': 'TRUE', 'CANONICAL_ENVROOT': '/opt/amazon', 'LD_LIBRARY_PATH': '/opt/amazon/lib/python2.7/site-packages/cv2/../../../../lib:/usr/local/nvidia/lib64:/opt/amazon/lib', 'LANG': 'en_US.utf8', 'DMLC_INTERFACE': 'eth0', 'SHLVL': '1', 'AWS_REGION': 'eu-central-1', 'SAGEMAKER_METRICS_DIRECTORY': '/opt/ml/output/metrics/sagemaker', 'NVIDIA_VISIBLE_DEVICES': 'void', 'TRAINING_JOB_NAME': 'knnigo-2020-11-19-18-16-01-049', 'PROTOCOL_BUFFERS_PYTHON_IMPLEMENTATION': 'cpp', 'ENVROOT': '/opt/amazon', 'SAGEMAKER_DATA_PATH': '/opt/ml', 'NVIDIA_DRIVER_CAPABILITIES': 'compute,utility', 'NVIDIA_REQUIRE_CUDA': 'cuda>=9.0', 'OMP_NUM_THREADS': '2', 'HOSTNAME': 'ip-10-0-163-238.eu-central-1.compute.internal', 'AWS_CONTAINER_CREDENTIALS_RELATIVE_URI': '/v2/credentials/8068fcf8-377a-4a8d-99f3-4ff09c4e59ed', 'PWD': '/', 'TRAINING_JOB_ARN': 'arn:aws:sagemaker:eu-central-1:898627427171:training-job/knnigo-2020-11-19-18-16-01-049', 'AWS_EXECUTION_ENV': 'AWS_ECS_EC2'}\u001b[0m\n",
      "\u001b[34m[11/19/2020 18:19:26 INFO 140404386948928] envs={'ECS_CONTAINER_METADATA_URI': 'http://169.254.170.2/v3/c212080e-79bd-4408-b298-1c88c147b537', 'ECS_CONTAINER_METADATA_URI_V4': 'http://169.254.170.2/v4/c212080e-79bd-4408-b298-1c88c147b537', 'PROTOCOL_BUFFERS_PYTHON_IMPLEMENTATION_VERSION': '2', 'DMLC_NUM_WORKER': '1', 'DMLC_PS_ROOT_PORT': '9000', 'PATH': '/opt/amazon/bin:/usr/local/nvidia/bin:/usr/local/sbin:/usr/local/bin:/usr/sbin:/usr/bin:/sbin:/bin:/opt/amazon/bin:/opt/amazon/bin', 'SAGEMAKER_HTTP_PORT': '8080', 'HOME': '/root', 'PYTHONUNBUFFERED': 'TRUE', 'CANONICAL_ENVROOT': '/opt/amazon', 'LD_LIBRARY_PATH': '/opt/amazon/lib/python2.7/site-packages/cv2/../../../../lib:/usr/local/nvidia/lib64:/opt/amazon/lib', 'LANG': 'en_US.utf8', 'DMLC_INTERFACE': 'eth0', 'SHLVL': '1', 'DMLC_PS_ROOT_URI': '10.0.163.238', 'AWS_REGION': 'eu-central-1', 'SAGEMAKER_METRICS_DIRECTORY': '/opt/ml/output/metrics/sagemaker', 'NVIDIA_VISIBLE_DEVICES': 'void', 'TRAINING_JOB_NAME': 'knnigo-2020-11-19-18-16-01-049', 'PROTOCOL_BUFFERS_PYTHON_IMPLEMENTATION': 'cpp', 'ENVROOT': '/opt/amazon', 'SAGEMAKER_DATA_PATH': '/opt/ml', 'NVIDIA_DRIVER_CAPABILITIES': 'compute,utility', 'NVIDIA_REQUIRE_CUDA': 'cuda>=9.0', 'OMP_NUM_THREADS': '2', 'HOSTNAME': 'ip-10-0-163-238.eu-central-1.compute.internal', 'AWS_CONTAINER_CREDENTIALS_RELATIVE_URI': '/v2/credentials/8068fcf8-377a-4a8d-99f3-4ff09c4e59ed', 'DMLC_ROLE': 'scheduler', 'PWD': '/', 'DMLC_NUM_SERVER': '1', 'TRAINING_JOB_ARN': 'arn:aws:sagemaker:eu-central-1:898627427171:training-job/knnigo-2020-11-19-18-16-01-049', 'AWS_EXECUTION_ENV': 'AWS_ECS_EC2'}\u001b[0m\n",
      "\u001b[34m[11/19/2020 18:19:26 INFO 140404386948928] Launching parameter server for role server\u001b[0m\n",
      "\u001b[34m[11/19/2020 18:19:26 INFO 140404386948928] {'ECS_CONTAINER_METADATA_URI': 'http://169.254.170.2/v3/c212080e-79bd-4408-b298-1c88c147b537', 'ECS_CONTAINER_METADATA_URI_V4': 'http://169.254.170.2/v4/c212080e-79bd-4408-b298-1c88c147b537', 'PROTOCOL_BUFFERS_PYTHON_IMPLEMENTATION_VERSION': '2', 'PATH': '/opt/amazon/bin:/usr/local/nvidia/bin:/usr/local/sbin:/usr/local/bin:/usr/sbin:/usr/bin:/sbin:/bin:/opt/amazon/bin:/opt/amazon/bin', 'SAGEMAKER_HTTP_PORT': '8080', 'HOME': '/root', 'PYTHONUNBUFFERED': 'TRUE', 'CANONICAL_ENVROOT': '/opt/amazon', 'LD_LIBRARY_PATH': '/opt/amazon/lib/python2.7/site-packages/cv2/../../../../lib:/usr/local/nvidia/lib64:/opt/amazon/lib', 'LANG': 'en_US.utf8', 'DMLC_INTERFACE': 'eth0', 'SHLVL': '1', 'AWS_REGION': 'eu-central-1', 'SAGEMAKER_METRICS_DIRECTORY': '/opt/ml/output/metrics/sagemaker', 'NVIDIA_VISIBLE_DEVICES': 'void', 'TRAINING_JOB_NAME': 'knnigo-2020-11-19-18-16-01-049', 'PROTOCOL_BUFFERS_PYTHON_IMPLEMENTATION': 'cpp', 'ENVROOT': '/opt/amazon', 'SAGEMAKER_DATA_PATH': '/opt/ml', 'NVIDIA_DRIVER_CAPABILITIES': 'compute,utility', 'NVIDIA_REQUIRE_CUDA': 'cuda>=9.0', 'OMP_NUM_THREADS': '2', 'HOSTNAME': 'ip-10-0-163-238.eu-central-1.compute.internal', 'AWS_CONTAINER_CREDENTIALS_RELATIVE_URI': '/v2/credentials/8068fcf8-377a-4a8d-99f3-4ff09c4e59ed', 'PWD': '/', 'TRAINING_JOB_ARN': 'arn:aws:sagemaker:eu-central-1:898627427171:training-job/knnigo-2020-11-19-18-16-01-049', 'AWS_EXECUTION_ENV': 'AWS_ECS_EC2'}\u001b[0m\n",
      "\u001b[34m[11/19/2020 18:19:26 INFO 140404386948928] envs={'ECS_CONTAINER_METADATA_URI': 'http://169.254.170.2/v3/c212080e-79bd-4408-b298-1c88c147b537', 'ECS_CONTAINER_METADATA_URI_V4': 'http://169.254.170.2/v4/c212080e-79bd-4408-b298-1c88c147b537', 'PROTOCOL_BUFFERS_PYTHON_IMPLEMENTATION_VERSION': '2', 'DMLC_NUM_WORKER': '1', 'DMLC_PS_ROOT_PORT': '9000', 'PATH': '/opt/amazon/bin:/usr/local/nvidia/bin:/usr/local/sbin:/usr/local/bin:/usr/sbin:/usr/bin:/sbin:/bin:/opt/amazon/bin:/opt/amazon/bin', 'SAGEMAKER_HTTP_PORT': '8080', 'HOME': '/root', 'PYTHONUNBUFFERED': 'TRUE', 'CANONICAL_ENVROOT': '/opt/amazon', 'LD_LIBRARY_PATH': '/opt/amazon/lib/python2.7/site-packages/cv2/../../../../lib:/usr/local/nvidia/lib64:/opt/amazon/lib', 'LANG': 'en_US.utf8', 'DMLC_INTERFACE': 'eth0', 'SHLVL': '1', 'DMLC_PS_ROOT_URI': '10.0.163.238', 'AWS_REGION': 'eu-central-1', 'SAGEMAKER_METRICS_DIRECTORY': '/opt/ml/output/metrics/sagemaker', 'NVIDIA_VISIBLE_DEVICES': 'void', 'TRAINING_JOB_NAME': 'knnigo-2020-11-19-18-16-01-049', 'PROTOCOL_BUFFERS_PYTHON_IMPLEMENTATION': 'cpp', 'ENVROOT': '/opt/amazon', 'SAGEMAKER_DATA_PATH': '/opt/ml', 'NVIDIA_DRIVER_CAPABILITIES': 'compute,utility', 'NVIDIA_REQUIRE_CUDA': 'cuda>=9.0', 'OMP_NUM_THREADS': '2', 'HOSTNAME': 'ip-10-0-163-238.eu-central-1.compute.internal', 'AWS_CONTAINER_CREDENTIALS_RELATIVE_URI': '/v2/credentials/8068fcf8-377a-4a8d-99f3-4ff09c4e59ed', 'DMLC_ROLE': 'server', 'PWD': '/', 'DMLC_NUM_SERVER': '1', 'TRAINING_JOB_ARN': 'arn:aws:sagemaker:eu-central-1:898627427171:training-job/knnigo-2020-11-19-18-16-01-049', 'AWS_EXECUTION_ENV': 'AWS_ECS_EC2'}\u001b[0m\n",
      "\u001b[34m[11/19/2020 18:19:26 INFO 140404386948928] Environment: {'ECS_CONTAINER_METADATA_URI': 'http://169.254.170.2/v3/c212080e-79bd-4408-b298-1c88c147b537', 'ECS_CONTAINER_METADATA_URI_V4': 'http://169.254.170.2/v4/c212080e-79bd-4408-b298-1c88c147b537', 'PROTOCOL_BUFFERS_PYTHON_IMPLEMENTATION_VERSION': '2', 'DMLC_PS_ROOT_PORT': '9000', 'DMLC_NUM_WORKER': '1', 'SAGEMAKER_HTTP_PORT': '8080', 'PATH': '/opt/amazon/bin:/usr/local/nvidia/bin:/usr/local/sbin:/usr/local/bin:/usr/sbin:/usr/bin:/sbin:/bin:/opt/amazon/bin:/opt/amazon/bin', 'PYTHONUNBUFFERED': 'TRUE', 'CANONICAL_ENVROOT': '/opt/amazon', 'LD_LIBRARY_PATH': '/opt/amazon/lib/python2.7/site-packages/cv2/../../../../lib:/usr/local/nvidia/lib64:/opt/amazon/lib', 'LANG': 'en_US.utf8', 'DMLC_INTERFACE': 'eth0', 'SHLVL': '1', 'DMLC_PS_ROOT_URI': '10.0.163.238', 'AWS_REGION': 'eu-central-1', 'SAGEMAKER_METRICS_DIRECTORY': '/opt/ml/output/metrics/sagemaker', 'NVIDIA_VISIBLE_DEVICES': 'void', 'TRAINING_JOB_NAME': 'knnigo-2020-11-19-18-16-01-049', 'HOME': '/root', 'PROTOCOL_BUFFERS_PYTHON_IMPLEMENTATION': 'cpp', 'ENVROOT': '/opt/amazon', 'SAGEMAKER_DATA_PATH': '/opt/ml', 'NVIDIA_DRIVER_CAPABILITIES': 'compute,utility', 'NVIDIA_REQUIRE_CUDA': 'cuda>=9.0', 'OMP_NUM_THREADS': '2', 'HOSTNAME': 'ip-10-0-163-238.eu-central-1.compute.internal', 'AWS_CONTAINER_CREDENTIALS_RELATIVE_URI': '/v2/credentials/8068fcf8-377a-4a8d-99f3-4ff09c4e59ed', 'DMLC_ROLE': 'worker', 'PWD': '/', 'DMLC_NUM_SERVER': '1', 'TRAINING_JOB_ARN': 'arn:aws:sagemaker:eu-central-1:898627427171:training-job/knnigo-2020-11-19-18-16-01-049', 'AWS_EXECUTION_ENV': 'AWS_ECS_EC2'}\u001b[0m\n",
      "\u001b[34mProcess 60 is a shell:scheduler.\u001b[0m\n",
      "\u001b[34mProcess 69 is a shell:server.\u001b[0m\n",
      "\u001b[34mProcess 1 is a worker.\u001b[0m\n",
      "\u001b[34m[11/19/2020 18:19:26 INFO 140404386948928] Using default worker.\u001b[0m\n",
      "\u001b[34m[11/19/2020 18:19:26 INFO 140404386948928] Checkpoint loading and saving are disabled.\u001b[0m\n",
      "\u001b[34m[11/19/2020 18:19:27 INFO 140404386948928] nvidia-smi took: 0.025171995163 secs to identify 0 gpus\u001b[0m\n",
      "\u001b[34m[11/19/2020 18:19:27 INFO 140404386948928] Create Store: dist_async\u001b[0m\n",
      "\u001b[34m[11/19/2020 18:19:27 ERROR 140404386948928] nvidia-smi: failed to run (127): /bin/sh: nvidia-smi: command not found\u001b[0m\n",
      "\u001b[34m[11/19/2020 18:19:27 INFO 140404386948928] Using per-worker sample size = 5000 (Available virtual memory = 15065563136 bytes, GPU free memory = 0 bytes, number of workers = 1). If an out-of-memory error occurs, choose a larger instance type, use dimension reduction, decrease sample_size, and/or decrease mini_batch_size.\u001b[0m\n",
      "\u001b[34m#metrics {\"Metrics\": {\"Max Batches Seen Between Resets\": {\"count\": 1, \"max\": 0, \"sum\": 0.0, \"min\": 0}, \"Number of Batches Since Last Reset\": {\"count\": 1, \"max\": 0, \"sum\": 0.0, \"min\": 0}, \"Number of Records Since Last Reset\": {\"count\": 1, \"max\": 0, \"sum\": 0.0, \"min\": 0}, \"Total Batches Seen\": {\"count\": 1, \"max\": 0, \"sum\": 0.0, \"min\": 0}, \"Total Records Seen\": {\"count\": 1, \"max\": 0, \"sum\": 0.0, \"min\": 0}, \"Max Records Seen Between Resets\": {\"count\": 1, \"max\": 0, \"sum\": 0.0, \"min\": 0}, \"Reset Count\": {\"count\": 1, \"max\": 0, \"sum\": 0.0, \"min\": 0}}, \"EndTime\": 1605809968.097897, \"Dimensions\": {\"Host\": \"algo-1\", \"Meta\": \"init_train_data_iter\", \"Operation\": \"training\", \"Algorithm\": \"AWS/KNN\"}, \"StartTime\": 1605809968.097843}\n",
      "\u001b[0m\n",
      "\u001b[34m[11/19/2020 18:19:30 INFO 140404386948928] push reservoir to kv... 1 num_workers 0 rank\u001b[0m\n",
      "\u001b[34m[11/19/2020 18:19:30 INFO 140404386948928] ...done (5000)\u001b[0m\n",
      "\u001b[34m[11/19/2020 18:19:30 INFO 140404386948928] #progress_metric: host=algo-1, completed 100 % of epochs\u001b[0m\n",
      "\u001b[34m#metrics {\"Metrics\": {\"Max Batches Seen Between Resets\": {\"count\": 1, \"max\": 12, \"sum\": 12.0, \"min\": 12}, \"Number of Batches Since Last Reset\": {\"count\": 1, \"max\": 12, \"sum\": 12.0, \"min\": 12}, \"Number of Records Since Last Reset\": {\"count\": 1, \"max\": 55892, \"sum\": 55892.0, \"min\": 55892}, \"Total Batches Seen\": {\"count\": 1, \"max\": 12, \"sum\": 12.0, \"min\": 12}, \"Total Records Seen\": {\"count\": 1, \"max\": 55892, \"sum\": 55892.0, \"min\": 55892}, \"Max Records Seen Between Resets\": {\"count\": 1, \"max\": 55892, \"sum\": 55892.0, \"min\": 55892}, \"Reset Count\": {\"count\": 1, \"max\": 1, \"sum\": 1.0, \"min\": 1}}, \"EndTime\": 1605809970.153117, \"Dimensions\": {\"Host\": \"algo-1\", \"Meta\": \"training_data_iter\", \"Operation\": \"training\", \"Algorithm\": \"AWS/KNN\", \"epoch\": 0}, \"StartTime\": 1605809968.09826}\n",
      "\u001b[0m\n",
      "\u001b[34m[11/19/2020 18:19:30 INFO 140404386948928] #throughput_metric: host=algo-1, train throughput=27197.5383102 records/second\u001b[0m\n",
      "\u001b[34m[11/19/2020 18:19:30 INFO 140404386948928] pulled row count... worker 0 rows 5000\u001b[0m\n",
      "\u001b[34m[11/19/2020 18:19:30 INFO 140404386948928] pulled... worker 0 data (5000, 288) labels (5000,) nans 0\u001b[0m\n",
      "\u001b[34m[11/19/2020 18:19:30 INFO 140404386948928] calling index.train...\u001b[0m\n",
      "\u001b[34m[11/19/2020 18:19:30 INFO 140404386948928] ...done calling index.train\u001b[0m\n",
      "\u001b[34m[11/19/2020 18:19:30 INFO 140404386948928] calling index.add...\u001b[0m\n",
      "\u001b[34m[11/19/2020 18:19:30 INFO 140404386948928] ...done calling index.add\u001b[0m\n",
      "\u001b[34m#metrics {\"Metrics\": {\"epochs\": {\"count\": 1, \"max\": 1, \"sum\": 1.0, \"min\": 1}, \"model.serialize.time\": {\"count\": 1, \"max\": 5.187034606933594, \"sum\": 5.187034606933594, \"min\": 5.187034606933594}, \"finalize.time\": {\"count\": 1, \"max\": 25.294065475463867, \"sum\": 25.294065475463867, \"min\": 25.294065475463867}, \"initialize.time\": {\"count\": 1, \"max\": 720.466136932373, \"sum\": 720.466136932373, \"min\": 720.466136932373}, \"update.time\": {\"count\": 1, \"max\": 2054.5830726623535, \"sum\": 2054.5830726623535, \"min\": 2054.5830726623535}}, \"EndTime\": 1605809970.184087, \"Dimensions\": {\"Host\": \"algo-1\", \"Operation\": \"training\", \"Algorithm\": \"AWS/KNN\"}, \"StartTime\": 1605809966.835363}\n",
      "\u001b[0m\n",
      "\u001b[34m#metrics {\"Metrics\": {\"Max Batches Seen Between Resets\": {\"count\": 1, \"max\": 3, \"sum\": 3.0, \"min\": 3}, \"Number of Batches Since Last Reset\": {\"count\": 1, \"max\": 3, \"sum\": 3.0, \"min\": 3}, \"Number of Records Since Last Reset\": {\"count\": 1, \"max\": 13728, \"sum\": 13728.0, \"min\": 13728}, \"Total Batches Seen\": {\"count\": 1, \"max\": 3, \"sum\": 3.0, \"min\": 3}, \"Total Records Seen\": {\"count\": 1, \"max\": 13728, \"sum\": 13728.0, \"min\": 13728}, \"Max Records Seen Between Resets\": {\"count\": 1, \"max\": 13728, \"sum\": 13728.0, \"min\": 13728}, \"Reset Count\": {\"count\": 1, \"max\": 0, \"sum\": 0.0, \"min\": 0}}, \"EndTime\": 1605809971.545915, \"Dimensions\": {\"Host\": \"algo-1\", \"Meta\": \"test_data_iter\", \"Operation\": \"training\", \"Algorithm\": \"AWS/KNN\"}, \"StartTime\": 1605809970.184816}\n",
      "\u001b[0m\n",
      "\u001b[34m[11/19/2020 18:19:31 INFO 140404386948928] #test_score (algo-1) : ('mse', 2.08106205871833)\u001b[0m\n",
      "\u001b[34m[11/19/2020 18:19:31 INFO 140404386948928] #test_score (algo-1) : ('absolute_loss', 1.1201755598369805)\u001b[0m\n",
      "\u001b[34m[11/19/2020 18:19:31 INFO 140404386948928] #quality_metric: host=algo-1, test mse <loss>=2.08106205872\u001b[0m\n",
      "\u001b[34m[11/19/2020 18:19:31 INFO 140404386948928] #quality_metric: host=algo-1, test absolute_loss <loss>=1.12017555984\u001b[0m\n",
      "\u001b[34m#metrics {\"Metrics\": {\"totaltime\": {\"count\": 1, \"max\": 5313.212871551514, \"sum\": 5313.212871551514, \"min\": 5313.212871551514}, \"setuptime\": {\"count\": 1, \"max\": 34.32106971740723, \"sum\": 34.32106971740723, \"min\": 34.32106971740723}}, \"EndTime\": 1605809971.547424, \"Dimensions\": {\"Host\": \"algo-1\", \"Operation\": \"training\", \"Algorithm\": \"AWS/KNN\"}, \"StartTime\": 1605809970.184196}\n",
      "\u001b[0m\n",
      "\n",
      "2020-11-19 18:19:39 Uploading - Uploading generated training model\n",
      "2020-11-19 18:19:39 Completed - Training job completed\n",
      "Training seconds: 71\n",
      "Billable seconds: 71\n"
     ]
    }
   ],
   "source": [
    "import sagemaker\n",
    "knn=sagemaker.estimator.Estimator(container,\n",
    "        get_execution_role(),\n",
    "    train_instance_count=1,\n",
    "    train_instance_type='ml.m4.xlarge',\n",
    "    output_path='s3://aida-project/niy/output',\n",
    "    sagemaker_session=sagemaker.Session(),\n",
    "    enable_sagemaker_metrics=True,\n",
    "    base_job_name = 'knnigo'\n",
    "\n",
    ")\n",
    "\n",
    "\n",
    "knn.set_hyperparameters(**{\n",
    "    'k': 10,\n",
    "    'predictor_type': 'regressor',\n",
    "    'sample_size': 5000\n",
    "})\n",
    "\n",
    "\n",
    "knn.fit({\"train\": s3_input_train, \"test\": s3_input_test}, wait=True)\n"
   ]
  },
  {
   "cell_type": "code",
   "execution_count": 63,
   "metadata": {},
   "outputs": [
    {
     "name": "stderr",
     "output_type": "stream",
     "text": [
      "Warning: No metrics called test:binary_f_beta found\n",
      "Warning: No metrics called test:accuracy found\n",
      "Warning: No metrics called test:macro_f_beta found\n",
      "Warning: No metrics called test:roc_auc_score found\n"
     ]
    },
    {
     "data": {
      "text/html": [
       "<div>\n",
       "<style scoped>\n",
       "    .dataframe tbody tr th:only-of-type {\n",
       "        vertical-align: middle;\n",
       "    }\n",
       "\n",
       "    .dataframe tbody tr th {\n",
       "        vertical-align: top;\n",
       "    }\n",
       "\n",
       "    .dataframe thead th {\n",
       "        text-align: right;\n",
       "    }\n",
       "</style>\n",
       "<table border=\"1\" class=\"dataframe\">\n",
       "  <thead>\n",
       "    <tr style=\"text-align: right;\">\n",
       "      <th></th>\n",
       "      <th>timestamp</th>\n",
       "      <th>metric_name</th>\n",
       "      <th>value</th>\n",
       "    </tr>\n",
       "  </thead>\n",
       "  <tbody>\n",
       "    <tr>\n",
       "      <th>0</th>\n",
       "      <td>0.0</td>\n",
       "      <td>test:absolute_loss</td>\n",
       "      <td>1.120176</td>\n",
       "    </tr>\n",
       "    <tr>\n",
       "      <th>1</th>\n",
       "      <td>0.0</td>\n",
       "      <td>train:progress</td>\n",
       "      <td>100.000000</td>\n",
       "    </tr>\n",
       "    <tr>\n",
       "      <th>2</th>\n",
       "      <td>0.0</td>\n",
       "      <td>test:mse</td>\n",
       "      <td>2.081062</td>\n",
       "    </tr>\n",
       "    <tr>\n",
       "      <th>3</th>\n",
       "      <td>0.0</td>\n",
       "      <td>train:throughput</td>\n",
       "      <td>27211.454277</td>\n",
       "    </tr>\n",
       "  </tbody>\n",
       "</table>\n",
       "</div>"
      ],
      "text/plain": [
       "   timestamp         metric_name         value\n",
       "0        0.0  test:absolute_loss      1.120176\n",
       "1        0.0      train:progress    100.000000\n",
       "2        0.0            test:mse      2.081062\n",
       "3        0.0    train:throughput  27211.454277"
      ]
     },
     "execution_count": 63,
     "metadata": {},
     "output_type": "execute_result"
    }
   ],
   "source": [
    "from sagemaker.analytics import TrainingJobAnalytics\n",
    "\n",
    "training_job_name = 'knnigo-2020-11-19-12-13-12-216'\n",
    "metrics_dataframe = TrainingJobAnalytics(training_job_name=training_job_name).dataframe()\n",
    "metrics_dataframe"
   ]
  },
  {
   "cell_type": "code",
   "execution_count": 67,
   "metadata": {},
   "outputs": [
    {
     "name": "stdout",
     "output_type": "stream",
     "text": [
      "rmse: 1.4425886454564933\n"
     ]
    }
   ],
   "source": [
    "import math\n",
    "print('rmse:', math.sqrt(2.081062))"
   ]
  },
  {
   "cell_type": "markdown",
   "metadata": {},
   "source": [
    "https://medium.com/datadriveninvestor/k-nearest-neighbors-in-python-hyperparameters-tuning-716734bc557f"
   ]
  }
 ],
 "metadata": {
  "kernelspec": {
   "display_name": "conda_python3",
   "language": "python",
   "name": "conda_python3"
  },
  "language_info": {
   "codemirror_mode": {
    "name": "ipython",
    "version": 3
   },
   "file_extension": ".py",
   "mimetype": "text/x-python",
   "name": "python",
   "nbconvert_exporter": "python",
   "pygments_lexer": "ipython3",
   "version": "3.6.10"
  }
 },
 "nbformat": 4,
 "nbformat_minor": 4
}
