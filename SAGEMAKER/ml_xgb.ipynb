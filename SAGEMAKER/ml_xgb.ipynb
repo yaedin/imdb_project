{
 "cells": [
  {
   "cell_type": "markdown",
   "metadata": {},
   "source": [
    "# Imports"
   ]
  },
  {
   "cell_type": "code",
   "execution_count": 6,
   "metadata": {},
   "outputs": [],
   "source": [
    "import logging\n",
    "import boto3\n",
    "from botocore.exceptions import ClientError\n",
    "import pandas as pd\n",
    "\n",
    "from sagemaker.amazon.amazon_estimator import get_image_uri\n",
    "from sagemaker.session import s3_input\n",
    "from sagemaker import get_execution_role\n",
    "from sagemaker import Session\n",
    "from sagemaker.estimator import Estimator"
   ]
  },
  {
   "cell_type": "code",
   "execution_count": 7,
   "metadata": {},
   "outputs": [],
   "source": [
    "bucket_name = 'ye-1468'\n",
    "region = 'eu-central-1'"
   ]
  },
  {
   "cell_type": "code",
   "execution_count": 8,
   "metadata": {},
   "outputs": [],
   "source": [
    "session = boto3.Session(\n",
    "    region_name=region\n",
    ")"
   ]
  },
  {
   "cell_type": "code",
   "execution_count": 9,
   "metadata": {},
   "outputs": [],
   "source": [
    "# Now we can create low-level clients or resource clients from our custom session\n",
    "s3_client = boto3.client('s3')\n",
    "s3 = boto3.resource('s3')"
   ]
  },
  {
   "cell_type": "markdown",
   "metadata": {},
   "source": [
    "# Training"
   ]
  },
  {
   "cell_type": "markdown",
   "metadata": {},
   "source": [
    "## Data"
   ]
  },
  {
   "cell_type": "code",
   "execution_count": 10,
   "metadata": {},
   "outputs": [
    {
     "name": "stderr",
     "output_type": "stream",
     "text": [
      "'s3_input' class will be renamed to 'TrainingInput' in SageMaker Python SDK v2.\n",
      "'s3_input' class will be renamed to 'TrainingInput' in SageMaker Python SDK v2.\n"
     ]
    }
   ],
   "source": [
    "train_data = 's3://aida-project/niy/train.csv'\n",
    "test_data = 's3://aida-project/niy/test.csv'\n",
    "\n",
    "# create s3 paths for the objects\n",
    "s3_input_train = s3_input(train_data, content_type='text/csv')\n",
    "s3_input_test = s3_input(test_data, content_type='text/csv')\n",
    "\n",
    "data_channels = {'train': s3_input_train, 'validation': s3_input_test}"
   ]
  },
  {
   "cell_type": "code",
   "execution_count": 11,
   "metadata": {},
   "outputs": [],
   "source": [
    "# get execution role\n",
    "role = get_execution_role()\n",
    "# create session\n",
    "sess = Session()"
   ]
  },
  {
   "cell_type": "markdown",
   "metadata": {},
   "source": [
    "## XGBoost"
   ]
  },
  {
   "cell_type": "code",
   "execution_count": 12,
   "metadata": {},
   "outputs": [
    {
     "name": "stderr",
     "output_type": "stream",
     "text": [
      "'get_image_uri' method will be deprecated in favor of 'ImageURIProvider' class in SageMaker Python SDK v2.\n"
     ]
    }
   ],
   "source": [
    "# Use a previously-built, AWS XGBoost model for training\n",
    "container = get_image_uri(region_name=region,\n",
    "                          repo_name='xgboost',\n",
    "                          repo_version='1.0-1')"
   ]
  },
  {
   "cell_type": "code",
   "execution_count": 13,
   "metadata": {},
   "outputs": [
    {
     "name": "stderr",
     "output_type": "stream",
     "text": [
      "Parameter image_name will be renamed to image_uri in SageMaker Python SDK v2.\n"
     ]
    }
   ],
   "source": [
    "# create an XGBoost Estimator\n",
    "xgb_model = Estimator(container,\n",
    "                      role, \n",
    "                      train_instance_count=1,\n",
    "                      train_instance_type='ml.m4.xlarge',\n",
    "                      output_path='s3://aida-project/niy/output',\n",
    "                      sagemaker_session=sess,\n",
    "                      base_job_name='niy')"
   ]
  },
  {
   "cell_type": "code",
   "execution_count": 14,
   "metadata": {},
   "outputs": [],
   "source": [
    "# Select the your specific hyperparameters\n",
    "xgb_model.set_hyperparameters(max_depth=5,\n",
    "                            eta=0.2,\n",
    "                            gamma=4,\n",
    "                            min_child_weight=6,\n",
    "                            subsample=0.8,\n",
    "                            silent=0,\n",
    "                            objective='reg:squarederror',\n",
    "                            num_round=100)"
   ]
  },
  {
   "cell_type": "code",
   "execution_count": 15,
   "metadata": {},
   "outputs": [
    {
     "name": "stdout",
     "output_type": "stream",
     "text": [
      "2020-11-18 13:38:57 Starting - Starting the training job...\n",
      "2020-11-18 13:38:59 Starting - Launching requested ML instances......\n",
      "2020-11-18 13:40:23 Starting - Preparing the instances for training......\n",
      "2020-11-18 13:41:22 Downloading - Downloading input data...\n",
      "2020-11-18 13:41:47 Training - Downloading the training image...\n",
      "2020-11-18 13:42:21 Uploading - Uploading generated training model\u001b[34mINFO:sagemaker-containers:Imported framework sagemaker_xgboost_container.training\u001b[0m\n",
      "\u001b[34mINFO:sagemaker-containers:Failed to parse hyperparameter objective value reg:squarederror to Json.\u001b[0m\n",
      "\u001b[34mReturning the value itself\u001b[0m\n",
      "\u001b[34mINFO:sagemaker-containers:No GPUs detected (normal if no gpus installed)\u001b[0m\n",
      "\u001b[34mINFO:sagemaker_xgboost_container.training:Running XGBoost Sagemaker in algorithm mode\u001b[0m\n",
      "\u001b[34mINFO:root:Determined delimiter of CSV input is ','\u001b[0m\n",
      "\u001b[34mINFO:root:Determined delimiter of CSV input is ','\u001b[0m\n",
      "\u001b[34mINFO:root:Determined delimiter of CSV input is ','\u001b[0m\n",
      "\u001b[34m[13:42:19] 21016x1 matrix with 21016 entries loaded from /opt/ml/input/data/train?format=csv&label_column=0&delimiter=,\u001b[0m\n",
      "\u001b[34mINFO:root:Determined delimiter of CSV input is ','\u001b[0m\n",
      "\u001b[34m[13:42:19] 5088x1 matrix with 5088 entries loaded from /opt/ml/input/data/validation?format=csv&label_column=0&delimiter=,\u001b[0m\n",
      "\u001b[34mINFO:root:Single node training.\u001b[0m\n",
      "\u001b[34mINFO:root:Train matrix has 21016 rows\u001b[0m\n",
      "\u001b[34mINFO:root:Validation matrix has 5088 rows\u001b[0m\n",
      "\u001b[34m[13:42:19] WARNING: /workspace/src/learner.cc:328: \u001b[0m\n",
      "\u001b[34mParameters: { num_round, silent } might not be used.\n",
      "\n",
      "  This may not be accurate due to some parameters are only used in language bindings but\n",
      "  passed down to XGBoost core.  Or some parameters are not used but slip through this\n",
      "  verification. Please open an issue if you find above cases.\n",
      "\n",
      "\u001b[0m\n",
      "\u001b[34m[0]#011train-rmse:4.84808#011validation-rmse:4.85488\u001b[0m\n",
      "\u001b[34m[1]#011train-rmse:3.95481#011validation-rmse:3.96103\u001b[0m\n",
      "\u001b[34m[2]#011train-rmse:3.25817#011validation-rmse:3.26374\u001b[0m\n",
      "\u001b[34m[3]#011train-rmse:2.71987#011validation-rmse:2.72461\u001b[0m\n",
      "\u001b[34m[4]#011train-rmse:2.30989#011validation-rmse:2.31365\u001b[0m\n",
      "\u001b[34m[5]#011train-rmse:2.00437#011validation-rmse:2.00698\u001b[0m\n",
      "\u001b[34m[6]#011train-rmse:1.78056#011validation-rmse:1.78200\u001b[0m\n",
      "\u001b[34m[7]#011train-rmse:1.62269#011validation-rmse:1.62289\u001b[0m\n",
      "\u001b[34m[8]#011train-rmse:1.51332#011validation-rmse:1.51243\u001b[0m\n",
      "\u001b[34m[9]#011train-rmse:1.43732#011validation-rmse:1.43544\u001b[0m\n",
      "\u001b[34m[10]#011train-rmse:1.38691#011validation-rmse:1.38413\u001b[0m\n",
      "\u001b[34m[11]#011train-rmse:1.35404#011validation-rmse:1.35058\u001b[0m\n",
      "\u001b[34m[12]#011train-rmse:1.33280#011validation-rmse:1.32878\u001b[0m\n",
      "\u001b[34m[13]#011train-rmse:1.31841#011validation-rmse:1.31393\u001b[0m\n",
      "\u001b[34m[14]#011train-rmse:1.30956#011validation-rmse:1.30471\u001b[0m\n",
      "\u001b[34m[15]#011train-rmse:1.30364#011validation-rmse:1.29851\u001b[0m\n",
      "\u001b[34m[16]#011train-rmse:1.29987#011validation-rmse:1.29449\u001b[0m\n",
      "\u001b[34m[17]#011train-rmse:1.29746#011validation-rmse:1.29190\u001b[0m\n",
      "\u001b[34m[18]#011train-rmse:1.29599#011validation-rmse:1.29030\u001b[0m\n",
      "\u001b[34m[19]#011train-rmse:1.29490#011validation-rmse:1.28908\u001b[0m\n",
      "\u001b[34m[20]#011train-rmse:1.29424#011validation-rmse:1.28832\u001b[0m\n",
      "\u001b[34m[21]#011train-rmse:1.29377#011validation-rmse:1.28773\u001b[0m\n",
      "\u001b[34m[22]#011train-rmse:1.29353#011validation-rmse:1.28740\u001b[0m\n",
      "\u001b[34m[23]#011train-rmse:1.29336#011validation-rmse:1.28719\u001b[0m\n",
      "\u001b[34m[24]#011train-rmse:1.29325#011validation-rmse:1.28704\u001b[0m\n",
      "\u001b[34m[25]#011train-rmse:1.29320#011validation-rmse:1.28696\u001b[0m\n",
      "\u001b[34m[26]#011train-rmse:1.29314#011validation-rmse:1.28687\u001b[0m\n",
      "\u001b[34m[27]#011train-rmse:1.29311#011validation-rmse:1.28682\u001b[0m\n",
      "\u001b[34m[28]#011train-rmse:1.29309#011validation-rmse:1.28678\u001b[0m\n",
      "\u001b[34m[29]#011train-rmse:1.29304#011validation-rmse:1.28676\u001b[0m\n",
      "\u001b[34m[30]#011train-rmse:1.29303#011validation-rmse:1.28673\u001b[0m\n",
      "\u001b[34m[31]#011train-rmse:1.29303#011validation-rmse:1.28672\u001b[0m\n",
      "\u001b[34m[32]#011train-rmse:1.29303#011validation-rmse:1.28672\u001b[0m\n",
      "\u001b[34m[33]#011train-rmse:1.29303#011validation-rmse:1.28672\u001b[0m\n",
      "\u001b[34m[34]#011train-rmse:1.29302#011validation-rmse:1.28671\u001b[0m\n",
      "\u001b[34m[35]#011train-rmse:1.29302#011validation-rmse:1.28671\u001b[0m\n",
      "\u001b[34m[36]#011train-rmse:1.29303#011validation-rmse:1.28670\u001b[0m\n",
      "\u001b[34m[37]#011train-rmse:1.29302#011validation-rmse:1.28671\u001b[0m\n",
      "\u001b[34m[38]#011train-rmse:1.29302#011validation-rmse:1.28671\u001b[0m\n",
      "\u001b[34m[39]#011train-rmse:1.29303#011validation-rmse:1.28671\u001b[0m\n",
      "\u001b[34m[40]#011train-rmse:1.29302#011validation-rmse:1.28670\u001b[0m\n",
      "\u001b[34m[41]#011train-rmse:1.29302#011validation-rmse:1.28670\u001b[0m\n",
      "\u001b[34m[42]#011train-rmse:1.29302#011validation-rmse:1.28671\u001b[0m\n",
      "\u001b[34m[43]#011train-rmse:1.29302#011validation-rmse:1.28669\u001b[0m\n",
      "\u001b[34m[44]#011train-rmse:1.29302#011validation-rmse:1.28670\u001b[0m\n",
      "\u001b[34m[45]#011train-rmse:1.29301#011validation-rmse:1.28673\u001b[0m\n",
      "\u001b[34m[46]#011train-rmse:1.29301#011validation-rmse:1.28673\u001b[0m\n",
      "\u001b[34m[47]#011train-rmse:1.29301#011validation-rmse:1.28674\u001b[0m\n",
      "\u001b[34m[48]#011train-rmse:1.29301#011validation-rmse:1.28675\u001b[0m\n",
      "\u001b[34m[49]#011train-rmse:1.29301#011validation-rmse:1.28675\u001b[0m\n",
      "\u001b[34m[50]#011train-rmse:1.29300#011validation-rmse:1.28673\u001b[0m\n",
      "\u001b[34m[51]#011train-rmse:1.29301#011validation-rmse:1.28673\u001b[0m\n",
      "\u001b[34m[52]#011train-rmse:1.29301#011validation-rmse:1.28672\u001b[0m\n",
      "\u001b[34m[53]#011train-rmse:1.29301#011validation-rmse:1.28673\u001b[0m\n",
      "\u001b[34m[54]#011train-rmse:1.29301#011validation-rmse:1.28672\u001b[0m\n",
      "\u001b[34m[55]#011train-rmse:1.29301#011validation-rmse:1.28672\u001b[0m\n",
      "\u001b[34m[56]#011train-rmse:1.29301#011validation-rmse:1.28672\u001b[0m\n",
      "\u001b[34m[57]#011train-rmse:1.29301#011validation-rmse:1.28673\u001b[0m\n",
      "\u001b[34m[58]#011train-rmse:1.29301#011validation-rmse:1.28673\u001b[0m\n",
      "\u001b[34m[59]#011train-rmse:1.29301#011validation-rmse:1.28674\u001b[0m\n",
      "\u001b[34m[60]#011train-rmse:1.29301#011validation-rmse:1.28674\u001b[0m\n",
      "\u001b[34m[61]#011train-rmse:1.29301#011validation-rmse:1.28673\u001b[0m\n",
      "\u001b[34m[62]#011train-rmse:1.29301#011validation-rmse:1.28674\u001b[0m\n",
      "\u001b[34m[63]#011train-rmse:1.29301#011validation-rmse:1.28675\u001b[0m\n",
      "\u001b[34m[64]#011train-rmse:1.29301#011validation-rmse:1.28674\u001b[0m\n",
      "\u001b[34m[65]#011train-rmse:1.29301#011validation-rmse:1.28675\u001b[0m\n",
      "\u001b[34m[66]#011train-rmse:1.29301#011validation-rmse:1.28674\u001b[0m\n",
      "\u001b[34m[67]#011train-rmse:1.29301#011validation-rmse:1.28674\u001b[0m\n",
      "\u001b[34m[68]#011train-rmse:1.29300#011validation-rmse:1.28677\u001b[0m\n",
      "\u001b[34m[69]#011train-rmse:1.29301#011validation-rmse:1.28676\u001b[0m\n",
      "\u001b[34m[70]#011train-rmse:1.29300#011validation-rmse:1.28677\u001b[0m\n",
      "\u001b[34m[71]#011train-rmse:1.29300#011validation-rmse:1.28678\u001b[0m\n",
      "\u001b[34m[72]#011train-rmse:1.29300#011validation-rmse:1.28677\u001b[0m\n",
      "\u001b[34m[73]#011train-rmse:1.29300#011validation-rmse:1.28678\u001b[0m\n",
      "\u001b[34m[74]#011train-rmse:1.29300#011validation-rmse:1.28678\u001b[0m\n",
      "\u001b[34m[75]#011train-rmse:1.29300#011validation-rmse:1.28677\u001b[0m\n",
      "\u001b[34m[76]#011train-rmse:1.29301#011validation-rmse:1.28679\u001b[0m\n",
      "\u001b[34m[77]#011train-rmse:1.29300#011validation-rmse:1.28677\u001b[0m\n",
      "\u001b[34m[78]#011train-rmse:1.29300#011validation-rmse:1.28677\u001b[0m\n",
      "\u001b[34m[79]#011train-rmse:1.29300#011validation-rmse:1.28677\u001b[0m\n",
      "\u001b[34m[80]#011train-rmse:1.29300#011validation-rmse:1.28678\u001b[0m\n",
      "\u001b[34m[81]#011train-rmse:1.29301#011validation-rmse:1.28676\u001b[0m\n",
      "\u001b[34m[82]#011train-rmse:1.29301#011validation-rmse:1.28676\u001b[0m\n",
      "\u001b[34m[83]#011train-rmse:1.29300#011validation-rmse:1.28678\u001b[0m\n",
      "\u001b[34m[84]#011train-rmse:1.29300#011validation-rmse:1.28677\u001b[0m\n",
      "\u001b[34m[85]#011train-rmse:1.29300#011validation-rmse:1.28677\u001b[0m\n",
      "\u001b[34m[86]#011train-rmse:1.29300#011validation-rmse:1.28677\u001b[0m\n",
      "\u001b[34m[87]#011train-rmse:1.29300#011validation-rmse:1.28677\u001b[0m\n",
      "\u001b[34m[88]#011train-rmse:1.29300#011validation-rmse:1.28678\u001b[0m\n",
      "\u001b[34m[89]#011train-rmse:1.29300#011validation-rmse:1.28676\u001b[0m\n",
      "\u001b[34m[90]#011train-rmse:1.29300#011validation-rmse:1.28677\u001b[0m\n",
      "\u001b[34m[91]#011train-rmse:1.29300#011validation-rmse:1.28676\u001b[0m\n",
      "\u001b[34m[92]#011train-rmse:1.29300#011validation-rmse:1.28676\u001b[0m\n",
      "\u001b[34m[93]#011train-rmse:1.29301#011validation-rmse:1.28676\u001b[0m\n",
      "\u001b[34m[94]#011train-rmse:1.29300#011validation-rmse:1.28676\u001b[0m\n",
      "\u001b[34m[95]#011train-rmse:1.29300#011validation-rmse:1.28676\u001b[0m\n",
      "\u001b[34m[96]#011train-rmse:1.29301#011validation-rmse:1.28676\u001b[0m\n",
      "\u001b[34m[97]#011train-rmse:1.29300#011validation-rmse:1.28676\u001b[0m\n",
      "\u001b[34m[98]#011train-rmse:1.29300#011validation-rmse:1.28678\u001b[0m\n",
      "\u001b[34m[99]#011train-rmse:1.29301#011validation-rmse:1.28679\u001b[0m\n",
      "\n",
      "2020-11-18 13:42:29 Completed - Training job completed\n",
      "Training seconds: 67\n",
      "Billable seconds: 67\n"
     ]
    }
   ],
   "source": [
    "xgb_model.fit({\"train\": s3_input_train, \"validation\": s3_input_test}, wait=True)"
   ]
  },
  {
   "cell_type": "markdown",
   "metadata": {},
   "source": [
    "# Deployment"
   ]
  },
  {
   "cell_type": "code",
   "execution_count": 16,
   "metadata": {},
   "outputs": [],
   "source": [
    "## TO DO"
   ]
  },
  {
   "cell_type": "code",
   "execution_count": 20,
   "metadata": {},
   "outputs": [
    {
     "name": "stdout",
     "output_type": "stream",
     "text": [
      "\n"
     ]
    }
   ],
   "source": [
    "'''\n",
    "# Deploy your model to an endpoint to perform predictions\n",
    "xgb_predictor = xgb_model.deploy(\n",
    "    initial_instance_count = 1, \n",
    "    instance_type = 'ml.t2.medium')  \n",
    "'''\n",
    "print()"
   ]
  },
  {
   "cell_type": "code",
   "execution_count": 21,
   "metadata": {},
   "outputs": [
    {
     "name": "stdout",
     "output_type": "stream",
     "text": [
      "\n"
     ]
    }
   ],
   "source": [
    "'''\n",
    "# Configure the predictor's serializer and deserializer\n",
    "\n",
    "from sagemaker.predictor import csv_serializer, csv_deserializer\n",
    "xgb_predictor.content_type = 'text/csv' # set the data type for an inference\n",
    "xgb_predictor.serializer = csv_serializer # set the serializer type\n",
    "xgb_predictor.deserializer = csv_deserializer\n",
    "'''\n",
    "print()"
   ]
  },
  {
   "cell_type": "markdown",
   "metadata": {},
   "source": [
    "## Prediction"
   ]
  },
  {
   "cell_type": "code",
   "execution_count": 17,
   "metadata": {},
   "outputs": [],
   "source": [
    "## TO DO"
   ]
  },
  {
   "cell_type": "code",
   "execution_count": 22,
   "metadata": {},
   "outputs": [],
   "source": [
    "# xgb_predictor.predict(df_test.values)"
   ]
  },
  {
   "cell_type": "code",
   "execution_count": null,
   "metadata": {},
   "outputs": [],
   "source": []
  }
 ],
 "metadata": {
  "kernelspec": {
   "display_name": "conda_python3",
   "language": "python",
   "name": "conda_python3"
  },
  "language_info": {
   "codemirror_mode": {
    "name": "ipython",
    "version": 3
   },
   "file_extension": ".py",
   "mimetype": "text/x-python",
   "name": "python",
   "nbconvert_exporter": "python",
   "pygments_lexer": "ipython3",
   "version": "3.6.10"
  }
 },
 "nbformat": 4,
 "nbformat_minor": 4
}
